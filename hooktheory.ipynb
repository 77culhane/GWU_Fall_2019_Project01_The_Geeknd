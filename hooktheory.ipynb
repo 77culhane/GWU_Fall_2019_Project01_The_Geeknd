{
 "cells": [
  {
   "cell_type": "code",
   "execution_count": null,
   "metadata": {},
   "outputs": [],
   "source": [
    "# Dependencies\n",
    "import json\n",
    "import requests\n",
    "import time\n",
    "import pandas as pd\n",
    "from config import uname, pword"
   ]
  },
  {
   "cell_type": "code",
   "execution_count": null,
   "metadata": {},
   "outputs": [],
   "source": [
    "# Request credentials using username and password\n",
    "url = \"https://api.hooktheory.com/v1/users/auth\"\n",
    "header = {\"accept\": \"application/json\", \n",
    "          \"Content-Type\": \"application/json\",\n",
    "          \"username\": uname,\n",
    "          \"password\": pword}\n",
    "\n",
    "response = requests.post(url, data=header).json()\n",
    "\n",
    "#save the key and id from response\n",
    "key = response['activkey']\n",
    "user_id = response['id']\n",
    "\n",
    "#create header used for queries\n",
    "bearer = f'Bearer {key}'\n",
    "a_header = {'Authorization':bearer}"
   ]
  },
  {
   "cell_type": "code",
   "execution_count": null,
   "metadata": {},
   "outputs": [],
   "source": [
    "c = requests.session()\n",
    "c.headers = a_header"
   ]
  },
  {
   "cell_type": "code",
   "execution_count": null,
   "metadata": {},
   "outputs": [],
   "source": [
    "#set query url and parameters\n",
    "url = \"https://api.hooktheory.com/v1/trends/songs\"\n",
    "params = {'cp':'', 'page':1}\n",
    "\n",
    "#list progressions we want to check\n",
    "progressions = ['1,5,4,6', '1,4,5', '1,4,6,5', '6,4,1,5', '1,6,4,5']\n",
    "\n",
    "#initialize a list to store data\n",
    "songs = []"
   ]
  },
  {
   "cell_type": "code",
   "execution_count": null,
   "metadata": {},
   "outputs": [],
   "source": [
    "comm = '''params['cp'] = progressions[0]\n",
    "r = c.get(url, params = params)\n",
    "response = r.json()\n",
    "r.headers['X-Rate-Limit-Reset']'''"
   ]
  },
  {
   "cell_type": "code",
   "execution_count": null,
   "metadata": {
    "scrolled": false
   },
   "outputs": [],
   "source": [
    "for cp in progressions:\n",
    "    params['cp'] = cp\n",
    "    page = 1\n",
    "    while page > 0:\n",
    "        params['page'] = page\n",
    "        r = c.get(url, params = params)\n",
    "        count = int(r.headers['X-Rate-Limit-Remaining'])\n",
    "        if count == 0:\n",
    "            wait = int(r.headers['X-Rate-Limit-Reset'])\n",
    "            print(len(songs))\n",
    "            time.sleep(wait)\n",
    "        response = r.json()\n",
    "        if len(response) == 0:\n",
    "            page = 0\n",
    "        else:\n",
    "            for song in response:\n",
    "                try:\n",
    "                    song['cp'] = cp\n",
    "                    songs.append(song)\n",
    "                except:\n",
    "                    pass\n",
    "            page += 1"
   ]
  },
  {
   "cell_type": "code",
   "execution_count": null,
   "metadata": {},
   "outputs": [],
   "source": [
    "songs_df = pd.DataFrame(songs)\n",
    "songs_df = songs_df.drop(columns='url')\n",
    "songs_df.head(30)"
   ]
  },
  {
   "cell_type": "code",
   "execution_count": null,
   "metadata": {},
   "outputs": [],
   "source": [
    "songs_df.to_csv('hooktheory_output.csv', index=False, header=True)"
   ]
  },
  {
   "cell_type": "code",
   "execution_count": null,
   "metadata": {},
   "outputs": [],
   "source": [
    "songs_df.tail()"
   ]
  },
  {
   "cell_type": "code",
   "execution_count": null,
   "metadata": {},
   "outputs": [],
   "source": []
  }
 ],
 "metadata": {
  "kernelspec": {
   "display_name": "Python 3",
   "language": "python",
   "name": "python3"
  },
  "language_info": {
   "codemirror_mode": {
    "name": "ipython",
    "version": 3
   },
   "file_extension": ".py",
   "mimetype": "text/x-python",
   "name": "python",
   "nbconvert_exporter": "python",
   "pygments_lexer": "ipython3",
   "version": "3.7.3"
  },
  "varInspector": {
   "cols": {
    "lenName": 16,
    "lenType": 16,
    "lenVar": 40
   },
   "kernels_config": {
    "python": {
     "delete_cmd_postfix": "",
     "delete_cmd_prefix": "del ",
     "library": "var_list.py",
     "varRefreshCmd": "print(var_dic_list())"
    },
    "r": {
     "delete_cmd_postfix": ") ",
     "delete_cmd_prefix": "rm(",
     "library": "var_list.r",
     "varRefreshCmd": "cat(var_dic_list()) "
    }
   },
   "types_to_exclude": [
    "module",
    "function",
    "builtin_function_or_method",
    "instance",
    "_Feature"
   ],
   "window_display": false
  }
 },
 "nbformat": 4,
 "nbformat_minor": 2
}
