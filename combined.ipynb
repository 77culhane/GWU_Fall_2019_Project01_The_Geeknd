{
 "cells": [
  {
   "cell_type": "code",
   "execution_count": 1,
   "metadata": {},
   "outputs": [],
   "source": [
    "# Dependencies\n",
    "import pandas as pd\n",
    "import matplotlib.pyplot as plt"
   ]
  },
  {
   "cell_type": "code",
   "execution_count": 2,
   "metadata": {},
   "outputs": [
    {
     "data": {
      "text/html": [
       "<div>\n",
       "<style scoped>\n",
       "    .dataframe tbody tr th:only-of-type {\n",
       "        vertical-align: middle;\n",
       "    }\n",
       "\n",
       "    .dataframe tbody tr th {\n",
       "        vertical-align: top;\n",
       "    }\n",
       "\n",
       "    .dataframe thead th {\n",
       "        text-align: right;\n",
       "    }\n",
       "</style>\n",
       "<table border=\"1\" class=\"dataframe\">\n",
       "  <thead>\n",
       "    <tr style=\"text-align: right;\">\n",
       "      <th></th>\n",
       "      <th>url</th>\n",
       "      <th>WeekID</th>\n",
       "      <th>Week Position</th>\n",
       "      <th>Song</th>\n",
       "      <th>Artist</th>\n",
       "      <th>SongID</th>\n",
       "      <th>Instance</th>\n",
       "      <th>Previous Week Position</th>\n",
       "      <th>Peak Position</th>\n",
       "      <th>Weeks on Chart</th>\n",
       "    </tr>\n",
       "  </thead>\n",
       "  <tbody>\n",
       "    <tr>\n",
       "      <th>20</th>\n",
       "      <td>http://www.billboard.com/charts/hot-100/1990-0...</td>\n",
       "      <td>6/30/1990</td>\n",
       "      <td>89</td>\n",
       "      <td>Don't Wanna Fall In Love</td>\n",
       "      <td>Jane Child</td>\n",
       "      <td>Don't Wanna Fall In LoveJane Child</td>\n",
       "      <td>1</td>\n",
       "      <td>76.0</td>\n",
       "      <td>2</td>\n",
       "      <td>21</td>\n",
       "    </tr>\n",
       "    <tr>\n",
       "      <th>35</th>\n",
       "      <td>http://www.billboard.com/charts/hot-100/2011-0...</td>\n",
       "      <td>9/10/2011</td>\n",
       "      <td>87</td>\n",
       "      <td>Don't Wanna Go Home</td>\n",
       "      <td>Jason Derulo</td>\n",
       "      <td>Don't Wanna Go HomeJason Derulo</td>\n",
       "      <td>1</td>\n",
       "      <td>74.0</td>\n",
       "      <td>14</td>\n",
       "      <td>15</td>\n",
       "    </tr>\n",
       "    <tr>\n",
       "      <th>62</th>\n",
       "      <td>http://www.billboard.com/charts/hot-100/2017-0...</td>\n",
       "      <td>4/29/2017</td>\n",
       "      <td>46</td>\n",
       "      <td>Don't Wanna Know</td>\n",
       "      <td>Maroon 5 Featuring Kendrick Lamar</td>\n",
       "      <td>Don't Wanna KnowMaroon 5 Featuring Kendrick Lamar</td>\n",
       "      <td>1</td>\n",
       "      <td>45.0</td>\n",
       "      <td>6</td>\n",
       "      <td>27</td>\n",
       "    </tr>\n",
       "    <tr>\n",
       "      <th>69</th>\n",
       "      <td>http://www.billboard.com/charts/hot-100/1971-1...</td>\n",
       "      <td>12/4/1971</td>\n",
       "      <td>64</td>\n",
       "      <td>Don't Wanna Live Inside Myself</td>\n",
       "      <td>Bee Gees</td>\n",
       "      <td>Don't Wanna Live Inside MyselfBee Gees</td>\n",
       "      <td>1</td>\n",
       "      <td>55.0</td>\n",
       "      <td>53</td>\n",
       "      <td>7</td>\n",
       "    </tr>\n",
       "    <tr>\n",
       "      <th>87</th>\n",
       "      <td>http://www.billboard.com/charts/hot-100/1989-1...</td>\n",
       "      <td>11/4/1989</td>\n",
       "      <td>84</td>\n",
       "      <td>Don't Wanna Lose You</td>\n",
       "      <td>Gloria Estefan</td>\n",
       "      <td>Don't Wanna Lose YouGloria Estefan</td>\n",
       "      <td>1</td>\n",
       "      <td>60.0</td>\n",
       "      <td>1</td>\n",
       "      <td>18</td>\n",
       "    </tr>\n",
       "  </tbody>\n",
       "</table>\n",
       "</div>"
      ],
      "text/plain": [
       "                                                  url     WeekID  \\\n",
       "20  http://www.billboard.com/charts/hot-100/1990-0...  6/30/1990   \n",
       "35  http://www.billboard.com/charts/hot-100/2011-0...  9/10/2011   \n",
       "62  http://www.billboard.com/charts/hot-100/2017-0...  4/29/2017   \n",
       "69  http://www.billboard.com/charts/hot-100/1971-1...  12/4/1971   \n",
       "87  http://www.billboard.com/charts/hot-100/1989-1...  11/4/1989   \n",
       "\n",
       "    Week Position                            Song  \\\n",
       "20             89        Don't Wanna Fall In Love   \n",
       "35             87             Don't Wanna Go Home   \n",
       "62             46                Don't Wanna Know   \n",
       "69             64  Don't Wanna Live Inside Myself   \n",
       "87             84            Don't Wanna Lose You   \n",
       "\n",
       "                               Artist  \\\n",
       "20                         Jane Child   \n",
       "35                       Jason Derulo   \n",
       "62  Maroon 5 Featuring Kendrick Lamar   \n",
       "69                           Bee Gees   \n",
       "87                     Gloria Estefan   \n",
       "\n",
       "                                               SongID  Instance  \\\n",
       "20                 Don't Wanna Fall In LoveJane Child         1   \n",
       "35                    Don't Wanna Go HomeJason Derulo         1   \n",
       "62  Don't Wanna KnowMaroon 5 Featuring Kendrick Lamar         1   \n",
       "69             Don't Wanna Live Inside MyselfBee Gees         1   \n",
       "87                 Don't Wanna Lose YouGloria Estefan         1   \n",
       "\n",
       "    Previous Week Position  Peak Position  Weeks on Chart  \n",
       "20                    76.0              2              21  \n",
       "35                    74.0             14              15  \n",
       "62                    45.0              6              27  \n",
       "69                    55.0             53               7  \n",
       "87                    60.0              1              18  "
      ]
     },
     "execution_count": 2,
     "metadata": {},
     "output_type": "execute_result"
    }
   ],
   "source": [
    "file1 = 'top_songs.csv'\n",
    "file2 = 'genre_df.csv'\n",
    "\n",
    "top_df = pd.read_csv(file1)\n",
    "song_df = pd.read_csv(file2)\n",
    "top_df = top_df.drop_duplicates(subset='SongID', keep='last')\n",
    "top_df = top_df.rename(columns={'Performer':'Artist'})\n",
    "combined_df = song_df.merge(top_df, on=['Song', 'Artist'])\n",
    "top_df.head()"
   ]
  },
  {
   "cell_type": "code",
   "execution_count": null,
   "metadata": {},
   "outputs": [],
   "source": []
  },
  {
   "cell_type": "code",
   "execution_count": null,
   "metadata": {},
   "outputs": [],
   "source": []
  },
  {
   "cell_type": "code",
   "execution_count": 3,
   "metadata": {},
   "outputs": [
    {
     "data": {
      "text/html": [
       "<div>\n",
       "<style scoped>\n",
       "    .dataframe tbody tr th:only-of-type {\n",
       "        vertical-align: middle;\n",
       "    }\n",
       "\n",
       "    .dataframe tbody tr th {\n",
       "        vertical-align: top;\n",
       "    }\n",
       "\n",
       "    .dataframe thead th {\n",
       "        text-align: right;\n",
       "    }\n",
       "</style>\n",
       "<table border=\"1\" class=\"dataframe\">\n",
       "  <thead>\n",
       "    <tr style=\"text-align: right;\">\n",
       "      <th></th>\n",
       "      <th>Song</th>\n",
       "      <th>Artist</th>\n",
       "      <th>Chord Progression</th>\n",
       "      <th>Genre</th>\n",
       "      <th>Popularity</th>\n",
       "      <th>Peak Position</th>\n",
       "      <th>Weeks on Chart</th>\n",
       "    </tr>\n",
       "  </thead>\n",
       "  <tbody>\n",
       "    <tr>\n",
       "      <th>0</th>\n",
       "      <td>The Bad Touch</td>\n",
       "      <td>Bloodhound Gang</td>\n",
       "      <td>1,5,4,6</td>\n",
       "      <td>rock</td>\n",
       "      <td>71.0</td>\n",
       "      <td>55</td>\n",
       "      <td>4</td>\n",
       "    </tr>\n",
       "    <tr>\n",
       "      <th>1</th>\n",
       "      <td>The Bad Touch</td>\n",
       "      <td>Bloodhound Gang</td>\n",
       "      <td>1,5,4,6</td>\n",
       "      <td>alternative</td>\n",
       "      <td>71.0</td>\n",
       "      <td>55</td>\n",
       "      <td>4</td>\n",
       "    </tr>\n",
       "    <tr>\n",
       "      <th>2</th>\n",
       "      <td>The Bad Touch</td>\n",
       "      <td>Bloodhound Gang</td>\n",
       "      <td>1,5,4,6</td>\n",
       "      <td>dance</td>\n",
       "      <td>71.0</td>\n",
       "      <td>55</td>\n",
       "      <td>4</td>\n",
       "    </tr>\n",
       "    <tr>\n",
       "      <th>3</th>\n",
       "      <td>The Bad Touch</td>\n",
       "      <td>Bloodhound Gang</td>\n",
       "      <td>1,5,4,6</td>\n",
       "      <td>alternative rock</td>\n",
       "      <td>71.0</td>\n",
       "      <td>55</td>\n",
       "      <td>4</td>\n",
       "    </tr>\n",
       "    <tr>\n",
       "      <th>4</th>\n",
       "      <td>The Bad Touch</td>\n",
       "      <td>Bloodhound Gang</td>\n",
       "      <td>1,5,4,6</td>\n",
       "      <td>comedy</td>\n",
       "      <td>71.0</td>\n",
       "      <td>55</td>\n",
       "      <td>4</td>\n",
       "    </tr>\n",
       "  </tbody>\n",
       "</table>\n",
       "</div>"
      ],
      "text/plain": [
       "            Song           Artist Chord Progression             Genre  \\\n",
       "0  The Bad Touch  Bloodhound Gang           1,5,4,6              rock   \n",
       "1  The Bad Touch  Bloodhound Gang           1,5,4,6       alternative   \n",
       "2  The Bad Touch  Bloodhound Gang           1,5,4,6             dance   \n",
       "3  The Bad Touch  Bloodhound Gang           1,5,4,6  alternative rock   \n",
       "4  The Bad Touch  Bloodhound Gang           1,5,4,6            comedy   \n",
       "\n",
       "   Popularity  Peak Position  Weeks on Chart  \n",
       "0        71.0             55               4  \n",
       "1        71.0             55               4  \n",
       "2        71.0             55               4  \n",
       "3        71.0             55               4  \n",
       "4        71.0             55               4  "
      ]
     },
     "execution_count": 3,
     "metadata": {},
     "output_type": "execute_result"
    }
   ],
   "source": [
    "combined_df = combined_df[['Song', 'Artist', 'Chord Progression', 'Genre', 'Popularity', 'Peak Position', 'Weeks on Chart']]\n",
    "combined_df.head()\n"
   ]
  },
  {
   "cell_type": "code",
   "execution_count": 4,
   "metadata": {},
   "outputs": [],
   "source": [
    "grouped = combined_df.groupby('Chord Progression')"
   ]
  },
  {
   "cell_type": "code",
   "execution_count": 5,
   "metadata": {},
   "outputs": [
    {
     "data": {
      "image/png": "[encoded data removed]",
      "text/plain": [
       "<Figure size 432x288 with 1 Axes>"
      ]
     },
     "metadata": {
      "needs_background": "light"
     },
     "output_type": "display_data"
    }
   ],
   "source": [
    "m = grouped['Peak Position'].mean()\n",
    "m.plot.bar()\n",
    "plt.ylabel('Peak Position')\n",
    "plt.title('Peak Position by Chord Progression')\n",
    "plt.xticks(rotation=0)\n",
    "plt.savefig('peakposition.png')"
   ]
  },
  {
   "cell_type": "code",
   "execution_count": null,
   "metadata": {},
   "outputs": [],
   "source": []
  },
  {
   "cell_type": "code",
   "execution_count": 9,
   "metadata": {},
   "outputs": [
    {
     "data": {
      "image/png": "[encoded data removed]",
      "text/plain": [
       "<Figure size 432x288 with 1 Axes>"
      ]
     },
     "metadata": {
      "needs_background": "light"
     },
     "output_type": "display_data"
    }
   ],
   "source": [
    "m = grouped['Weeks on Chart'].mean()\n",
    "m.plot.bar()\n",
    "plt.ylabel('Weeks on Chart')\n",
    "plt.title('Weeks on Chart by Chord Progression')\n",
    "plt.xticks(rotation=0)\n",
    "plt.savefig('weeksonchart.png')"
   ]
  },
  {
   "cell_type": "code",
   "execution_count": null,
   "metadata": {},
   "outputs": [],
   "source": []
  },
  {
   "cell_type": "code",
   "execution_count": 7,
   "metadata": {},
   "outputs": [],
   "source": [
    "genres = ['pop', 'rock', '80s', 'dance', 'alternative']\n",
    "genre_counts = []\n",
    "for g in genres:\n",
    "    c = combined_df[combined_df['Genre']==g]['Chord Progression'].value_counts()\n",
    "    genre_counts.append(c)"
   ]
  },
  {
   "cell_type": "code",
   "execution_count": 8,
   "metadata": {},
   "outputs": [
    {
     "name": "stdout",
     "output_type": "stream",
     "text": [
      "pop\n",
      "rock\n",
      "80s\n",
      "dance\n",
      "alternative\n"
     ]
    },
    {
     "data": {
      "image/png": "[encoded data removed]",
      "text/plain": [
       "<Figure size 432x288 with 1 Axes>"
      ]
     },
     "metadata": {
      "needs_background": "light"
     },
     "output_type": "display_data"
    }
   ],
   "source": [
    "progressions = ['1,5,4,6', '1,4,5', '1,4,6,5', '6,4,1,5', '1,6,4,5']\n",
    "for i in range(0, len(genres)):\n",
    "    plt.bar(genre_counts[i].index, genre_counts[i], label=genres[i])\n",
    "    print(genres[i])\n",
    "\n",
    "plt.legend()\n",
    "plt.title('Frequency of Chord Progression by Genre')\n",
    "plt.xlabel('Chord Progression')\n",
    "plt.ylabel('Number of Songs')\n",
    "plt.savefig('genrecp.png')"
   ]
  },
  {
   "cell_type": "code",
   "execution_count": null,
   "metadata": {
    "scrolled": false
   },
   "outputs": [],
   "source": []
  },
  {
   "cell_type": "code",
   "execution_count": null,
   "metadata": {},
   "outputs": [],
   "source": []
  },
  {
   "cell_type": "code",
   "execution_count": null,
   "metadata": {},
   "outputs": [],
   "source": []
  },
  {
   "cell_type": "code",
   "execution_count": null,
   "metadata": {},
   "outputs": [],
   "source": []
  },
  {
   "cell_type": "code",
   "execution_count": null,
   "metadata": {},
   "outputs": [],
   "source": []
  },
  {
   "cell_type": "code",
   "execution_count": null,
   "metadata": {},
   "outputs": [],
   "source": []
  }
 ],
 "metadata": {
  "kernelspec": {
   "display_name": "Python 3",
   "language": "python",
   "name": "python3"
  },
  "language_info": {
   "codemirror_mode": {
    "name": "ipython",
    "version": 3
   },
   "file_extension": ".py",
   "mimetype": "text/x-python",
   "name": "python",
   "nbconvert_exporter": "python",
   "pygments_lexer": "ipython3",
   "version": "3.7.3"
  },
  "varInspector": {
   "cols": {
    "lenName": 16,
    "lenType": 16,
    "lenVar": 40
   },
   "kernels_config": {
    "python": {
     "delete_cmd_postfix": "",
     "delete_cmd_prefix": "del ",
     "library": "var_list.py",
     "varRefreshCmd": "print(var_dic_list())"
    },
    "r": {
     "delete_cmd_postfix": ") ",
     "delete_cmd_prefix": "rm(",
     "library": "var_list.r",
     "varRefreshCmd": "cat(var_dic_list()) "
    }
   },
   "types_to_exclude": [
    "module",
    "function",
    "builtin_function_or_method",
    "instance",
    "_Feature"
   ],
   "window_display": false
  }
 },
 "nbformat": 4,
 "nbformat_minor": 2
}
